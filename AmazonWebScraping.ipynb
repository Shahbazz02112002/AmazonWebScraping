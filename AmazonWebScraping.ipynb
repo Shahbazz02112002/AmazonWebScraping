{
 "cells": [
  {
   "cell_type": "code",
   "execution_count": 58,
   "id": "36b7208c-fc47-48c5-9586-e3e090cf0211",
   "metadata": {},
   "outputs": [],
   "source": [
    "from bs4 import BeautifulSoup\n",
    "import requests\n",
    "import time\n",
    "import datetime\n",
    "import smtplib"
   ]
  },
  {
   "cell_type": "code",
   "execution_count": 60,
   "id": "885a1446-2660-42f1-bffd-1be51ae55ecb",
   "metadata": {},
   "outputs": [
    {
     "name": "stdout",
     "output_type": "stream",
     "text": [
      "\n",
      "                    Got Data? Data Analyst Programmer Accountant T-Shirt\n",
      "                   \n",
      "\n",
      "                       $13.38\n",
      "                      \n"
     ]
    }
   ],
   "source": [
    "url = \"https://www.amazon.com/Data-Analyst-Programmer-Accountant-T-Shirt/dp/B0C1TCPZG5/ref=sr_1_1?crid=2VO0A8JSJB4NB&dib=eyJ2IjoiMSJ9.K-5Pp6gJVOBwEEHxOoHfEvhBcongUeGPvHSQerFQ0GEXY_f1m9Fjyn8qzR7L7XsX1GGpxA1m6Tu7pa5CupHg4wGo3JXLjDHZ_jzOpEW1HYRUBKyLKmJdxiRAe216wA6np52PUnxOBcO4ZWP1HCEcgruRObpYyZUq7ShT_c5M9omHAwLUUW3iz4vGo1Meqn3UqruCO49KaS2zI8GCR7UNtOj2xlwYiScA2PvTFiyj8rB01Mlvx6zhS7PXxEQwLVdI2dKfX7E9l2ju0aAqzOH-kD4eyyzZnEx_0EL5q9xpVJM.Q1hOwnh3RaFU-T1N0DyBi-bzoD1frAS-HTIhVkIC9Nk&dib_tag=se&keywords=data%2Banalyst%2Btshirt&qid=1726844962&sprefix=data%2Banalyst%2Btshirt%2Caps%2C285&sr=8-1&customId=B0752XJYNL&customizationToken=MC_Assembly_1%23B0752XJYNL&th=1\"\n",
    "\n",
    "headers = {\"User-Agent\": \"Mozilla/5.0 (Windows NT 10.0; Win64; x64) AppleWebKit/537.36 (KHTML, like Gecko) Chrome/128.0.0.0 Safari/537.36 Edg/128.0.0.0\", \"Accept-Encoding\":\"gzip, deflate\", \"Accept\":\"text/html,application/xhtml+xml,application/xml;q=0.9,*/*;q=0.8\", \"DNT\":\"1\",\"Connection\":\"close\", \"Upgrade-Insecure-Requests\":\"1\"}\n",
    "\n",
    "page = requests.get(url, headers=headers)\n",
    "\n",
    "soup1 = BeautifulSoup(page.content, 'html.parser')\n",
    "\n",
    "soup2 = BeautifulSoup(soup1.prettify(), 'html.parser')\n",
    "\n",
    "title = soup2.find(id='productTitle').get_text()  # .text will wprk the same\n",
    "\n",
    "price = soup2.find(class_ ='a-offscreen').get_text()\n",
    "\n",
    "\n",
    "print(title)\n",
    "print(price)\n",
    "\n",
    "\n"
   ]
  },
  {
   "cell_type": "code",
   "execution_count": 62,
   "id": "bed12b65-24b9-485b-a6d3-ddf175298597",
   "metadata": {},
   "outputs": [
    {
     "name": "stdout",
     "output_type": "stream",
     "text": [
      "Got Data? Data Analyst Programmer Accountant T-Shirt\n",
      "13.38\n",
      "2024-09-26\n"
     ]
    }
   ],
   "source": [
    "title = title.strip()\n",
    "price = price.strip()[1:]\n",
    "\n",
    "date = datetime.date.today()\n",
    "\n",
    "print(title)\n",
    "print(price)\n",
    "print(date)"
   ]
  },
  {
   "cell_type": "code",
   "execution_count": 64,
   "id": "f4a30770-9989-4b58-a01a-3ab911d278a8",
   "metadata": {},
   "outputs": [],
   "source": [
    "import csv\n",
    "\n",
    "header = ['Title', 'Price', 'Date']\n",
    "\n",
    "data = [title,price,date]\n",
    "\n",
    "with open('AmazonWebScraping.csv', 'w', newline='', encoding= 'UTF8') as f:\n",
    "    writer = csv.writer(f)\n",
    "    writer.writerow(header)\n",
    "    writer.writerow(data)"
   ]
  },
  {
   "cell_type": "code",
   "execution_count": 66,
   "id": "552c3766-c61d-4306-b61c-068489666f30",
   "metadata": {},
   "outputs": [
    {
     "data": {
      "text/html": [
       "<div>\n",
       "<style scoped>\n",
       "    .dataframe tbody tr th:only-of-type {\n",
       "        vertical-align: middle;\n",
       "    }\n",
       "\n",
       "    .dataframe tbody tr th {\n",
       "        vertical-align: top;\n",
       "    }\n",
       "\n",
       "    .dataframe thead th {\n",
       "        text-align: right;\n",
       "    }\n",
       "</style>\n",
       "<table border=\"1\" class=\"dataframe\">\n",
       "  <thead>\n",
       "    <tr style=\"text-align: right;\">\n",
       "      <th></th>\n",
       "      <th>Title</th>\n",
       "      <th>Price</th>\n",
       "      <th>Date</th>\n",
       "    </tr>\n",
       "  </thead>\n",
       "  <tbody>\n",
       "    <tr>\n",
       "      <th>0</th>\n",
       "      <td>Got Data? Data Analyst Programmer Accountant T...</td>\n",
       "      <td>13.38</td>\n",
       "      <td>2024-09-26</td>\n",
       "    </tr>\n",
       "  </tbody>\n",
       "</table>\n",
       "</div>"
      ],
      "text/plain": [
       "                                               Title  Price        Date\n",
       "0  Got Data? Data Analyst Programmer Accountant T...  13.38  2024-09-26"
      ]
     },
     "execution_count": 66,
     "metadata": {},
     "output_type": "execute_result"
    }
   ],
   "source": [
    "import pandas as pd\n",
    "\n",
    "df = pd.read_csv(r\"C:\\Users\\Phuzel\\AmazonWebScraping.csv\")\n",
    "\n",
    "df"
   ]
  },
  {
   "cell_type": "code",
   "execution_count": 68,
   "id": "1b6b09d8-5cdb-49fd-bf04-cc28e93a4f03",
   "metadata": {},
   "outputs": [],
   "source": [
    "#Now we are appending data to the csv\n",
    "\n",
    "with open('AmazonWebScraperDataset.csv', 'a+', newline='', encoding='UTF8') as f:\n",
    "    writer = csv.writer(f)\n",
    "    writer.writerow(data)"
   ]
  },
  {
   "cell_type": "code",
   "execution_count": 70,
   "id": "16f20ecc-1c30-4bfa-b9d2-cdba19345150",
   "metadata": {},
   "outputs": [],
   "source": [
    "#Combining all of the above code into one function\n",
    "def check_price():\n",
    "    url = \"https://www.amazon.com/Data-Analyst-Programmer-Accountant-T-Shirt/dp/B0C1TCPZG5/ref=sr_1_1?crid=2VO0A8JSJB4NB&dib=eyJ2IjoiMSJ9.K-5Pp6gJVOBwEEHxOoHfEvhBcongUeGPvHSQerFQ0GEXY_f1m9Fjyn8qzR7L7XsX1GGpxA1m6Tu7pa5CupHg4wGo3JXLjDHZ_jzOpEW1HYRUBKyLKmJdxiRAe216wA6np52PUnxOBcO4ZWP1HCEcgruRObpYyZUq7ShT_c5M9omHAwLUUW3iz4vGo1Meqn3UqruCO49KaS2zI8GCR7UNtOj2xlwYiScA2PvTFiyj8rB01Mlvx6zhS7PXxEQwLVdI2dKfX7E9l2ju0aAqzOH-kD4eyyzZnEx_0EL5q9xpVJM.Q1hOwnh3RaFU-T1N0DyBi-bzoD1frAS-HTIhVkIC9Nk&dib_tag=se&keywords=data%2Banalyst%2Btshirt&qid=1726844962&sprefix=data%2Banalyst%2Btshirt%2Caps%2C285&sr=8-1&customId=B0752XJYNL&customizationToken=MC_Assembly_1%23B0752XJYNL&th=1\"\n",
    "\n",
    "    headers = {\"User-Agent\": \"Mozilla/5.0 (Windows NT 10.0; Win64; x64) AppleWebKit/537.36 (KHTML, like Gecko) Chrome/128.0.0.0 Safari/537.36 Edg/128.0.0.0\", \"Accept-Encoding\":\"gzip, deflate\", \"Accept\":\"text/html,application/xhtml+xml,application/xml;q=0.9,*/*;q=0.8\", \"DNT\":\"1\",\"Connection\":\"close\", \"Upgrade-Insecure-Requests\":\"1\"}\n",
    "\n",
    "    page = requests.get(url, headers=headers)\n",
    "\n",
    "    soup1 = BeautifulSoup(page.content, 'html.parser')\n",
    "\n",
    "    soup2 = BeautifulSoup(soup1.prettify(), 'html.parser')\n",
    "\n",
    "    title = soup2.find(id='productTitle').get_text()  # .text will wprk the same\n",
    "\n",
    "    price = soup2.find(class_ ='a-offscreen').get_text()\n",
    "\n",
    "    title = title.strip()\n",
    "    price = price.strip()[1:]\n",
    "\n",
    "    price1 = float(price)\n",
    "\n",
    "    date = datetime.date.today()\n",
    "\n",
    "    import csv\n",
    "\n",
    "    header = ['Title', 'Price', 'Date']\n",
    "\n",
    "    data = [title,price1,date]\n",
    "\n",
    "    with open('AmazonWebScraping.csv', 'a+', newline='', encoding= 'UTF8') as f:\n",
    "        writer = csv.writer(f)\n",
    "        writer.writerow(data)\n",
    "\n",
    "   # Uncomment the lines below if you want to receive an email notification when the price drops below $14\n",
    "# if price1 < 14:\n",
    "#     send_mail()\n",
    "\n",
    "\n",
    "    \n",
    "\n"
   ]
  },
  {
   "cell_type": "code",
   "execution_count": 72,
   "id": "0864f198-3590-42f9-926a-46eef3f6dd89",
   "metadata": {},
   "outputs": [
    {
     "ename": "KeyboardInterrupt",
     "evalue": "",
     "output_type": "error",
     "traceback": [
      "\u001b[1;31m---------------------------------------------------------------------------\u001b[0m",
      "\u001b[1;31mKeyboardInterrupt\u001b[0m                         Traceback (most recent call last)",
      "Cell \u001b[1;32mIn[72], line 3\u001b[0m\n\u001b[0;32m      1\u001b[0m \u001b[38;5;28;01mwhile\u001b[39;00m \u001b[38;5;28;01mTrue\u001b[39;00m:\n\u001b[0;32m      2\u001b[0m     check_price()\n\u001b[1;32m----> 3\u001b[0m     time\u001b[38;5;241m.\u001b[39msleep(\u001b[38;5;241m10\u001b[39m)\n",
      "\u001b[1;31mKeyboardInterrupt\u001b[0m: "
     ]
    }
   ],
   "source": [
    "while True:\n",
    "    check_price()\n",
    "    time.sleep(86400)"
   ]
  },
  {
   "cell_type": "code",
   "execution_count": 74,
   "id": "ab4e00f7-3b30-4bb5-b21c-2e94f2ad438b",
   "metadata": {},
   "outputs": [
    {
     "data": {
      "text/html": [
       "<div>\n",
       "<style scoped>\n",
       "    .dataframe tbody tr th:only-of-type {\n",
       "        vertical-align: middle;\n",
       "    }\n",
       "\n",
       "    .dataframe tbody tr th {\n",
       "        vertical-align: top;\n",
       "    }\n",
       "\n",
       "    .dataframe thead th {\n",
       "        text-align: right;\n",
       "    }\n",
       "</style>\n",
       "<table border=\"1\" class=\"dataframe\">\n",
       "  <thead>\n",
       "    <tr style=\"text-align: right;\">\n",
       "      <th></th>\n",
       "      <th>Title</th>\n",
       "      <th>Price</th>\n",
       "      <th>Date</th>\n",
       "    </tr>\n",
       "  </thead>\n",
       "  <tbody>\n",
       "    <tr>\n",
       "      <th>0</th>\n",
       "      <td>Got Data? Data Analyst Programmer Accountant T...</td>\n",
       "      <td>13.38</td>\n",
       "      <td>2024-09-26</td>\n",
       "    </tr>\n",
       "  </tbody>\n",
       "</table>\n",
       "</div>"
      ],
      "text/plain": [
       "                                               Title  Price        Date\n",
       "0  Got Data? Data Analyst Programmer Accountant T...  13.38  2024-09-26"
      ]
     },
     "execution_count": 74,
     "metadata": {},
     "output_type": "execute_result"
    }
   ],
   "source": []
  },
  {
   "cell_type": "code",
   "execution_count": 161,
   "id": "b4f69dee-5cf3-4524-84f7-f4dcca57e2d7",
   "metadata": {},
   "outputs": [],
   "source": [
    "# If uou want to try sending yourself an email (just for fun) when a price hits below a certain level you can try it\n",
    "# out with this script\n",
    "def send_mail():\n",
    "    server = smtplib.SMTP_SSL('smtp.gmail.com', 465)\n",
    "    server.ehlo()\n",
    "    server.login('gbup@gmail.com', '******')  # Replace '******' with your app-specific password\n",
    "    \n",
    "    subject = \"The Shirt you want is below $14! Now is your chance to buy!\"\n",
    "    body = (\"Shahbaz, This is the moment we have been waiting for. \"\n",
    "            \"Now is your chance to pick up the shirt of your dreams. \"\n",
    "            \"Don't mess it up! Link here: \"\n",
    "            \"https://www.amazon.com/Funny-Data-Systems-Business-Analyst/dp/B07FNW9FGJ\")\n",
    "   \n",
    "    msg = f\"Subject: {subject}\\n\\n{body}\"\n",
    "    \n",
    "    server.sendmail(\n",
    "        'gbup@gmail.com',  # From email\n",
    "        'recipient@example.com',  # To email \n",
    "        msg\n",
    "    )\n",
    "    \n",
    "    server.quit()  # Close the connection to the SMTP server\n"
   ]
  },
  {
   "cell_type": "code",
   "execution_count": 44,
   "id": "149d9af6-1d15-4f9b-b2fd-65c5e4e03c5e",
   "metadata": {},
   "outputs": [
    {
     "data": {
      "text/html": [
       "<div>\n",
       "<style scoped>\n",
       "    .dataframe tbody tr th:only-of-type {\n",
       "        vertical-align: middle;\n",
       "    }\n",
       "\n",
       "    .dataframe tbody tr th {\n",
       "        vertical-align: top;\n",
       "    }\n",
       "\n",
       "    .dataframe thead th {\n",
       "        text-align: right;\n",
       "    }\n",
       "</style>\n",
       "<table border=\"1\" class=\"dataframe\">\n",
       "  <thead>\n",
       "    <tr style=\"text-align: right;\">\n",
       "      <th></th>\n",
       "      <th>Title</th>\n",
       "      <th>Price</th>\n",
       "      <th>Date</th>\n",
       "    </tr>\n",
       "  </thead>\n",
       "  <tbody>\n",
       "    <tr>\n",
       "      <th>0</th>\n",
       "      <td>Got Data? Data Analyst Programmer Accountant T...</td>\n",
       "      <td>13.38</td>\n",
       "      <td>2024-09-26</td>\n",
       "    </tr>\n",
       "  </tbody>\n",
       "</table>\n",
       "</div>"
      ],
      "text/plain": [
       "                                               Title  Price        Date\n",
       "0  Got Data? Data Analyst Programmer Accountant T...  13.38  2024-09-26"
      ]
     },
     "execution_count": 44,
     "metadata": {},
     "output_type": "execute_result"
    }
   ],
   "source": []
  },
  {
   "cell_type": "code",
   "execution_count": null,
   "id": "5c563e8d-6c49-4777-8b7c-cf9042c16bc4",
   "metadata": {},
   "outputs": [],
   "source": []
  }
 ],
 "metadata": {
  "kernelspec": {
   "display_name": "Python 3 (ipykernel)",
   "language": "python",
   "name": "python3"
  },
  "language_info": {
   "codemirror_mode": {
    "name": "ipython",
    "version": 3
   },
   "file_extension": ".py",
   "mimetype": "text/x-python",
   "name": "python",
   "nbconvert_exporter": "python",
   "pygments_lexer": "ipython3",
   "version": "3.12.4"
  }
 },
 "nbformat": 4,
 "nbformat_minor": 5
}
